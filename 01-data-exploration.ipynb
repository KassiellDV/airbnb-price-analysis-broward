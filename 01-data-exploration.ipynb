{
 "cells": [
  {
   "cell_type": "code",
   "execution_count": null,
   "id": "9a97adcf",
   "metadata": {},
   "outputs": [],
   "source": [
    "import pandas as pd\n",
    "import matplotlib.pyplot as plt\n",
    "import seaborn as sns\n",
    "\n",
    "# Load the data\n",
    "df = pd.read_csv('data/listings.csv')\n",
    "\n",
    "# Check basic info\n",
    "df.info()\n",
    "\n",
    "# Show first rows\n",
    "df.head()\n"
   ]
  },
  {
   "cell_type": "code",
   "execution_count": 15,
   "id": "fadf7c1b",
   "metadata": {},
   "outputs": [],
   "source": [
    "# Remove $ and commas in 'price' and convert to float\n",
    "df['price'] = df['price'].replace(r'[\\$,]', '', regex=True).astype(float)\n",
    "\n",
    "# Check for nulls\n",
    "df.isnull().sum().sort_values(ascending=False).head(10)\n",
    "\n",
    "# Drop columns with too many missing values\n",
    "df = df.drop(columns=['license', 'neighbourhood_group_cleansed'], errors='ignore')\n",
    "\n",
    "# Fill or drop remaining nulls\n",
    "df = df.dropna(subset=['price', 'room_type', 'neighbourhood_cleansed'])\n",
    "\n",
    "# Optional: filter out crazy prices\n",
    "df = df[df['price'] < 1000]\n"
   ]
  },
  {
   "cell_type": "code",
   "execution_count": null,
   "id": "ddece833",
   "metadata": {},
   "outputs": [],
   "source": [
    "# Save cleaned data to a new CSV file\n",
    "df.to_csv('data/cleaned_listings.csv', index=False)\n"
   ]
  },
  {
   "cell_type": "code",
   "execution_count": null,
   "id": "739c9770",
   "metadata": {},
   "outputs": [],
   "source": [
    "# Function to clean Airbnb data\n",
    "# This function reads the CSV file, cleans the 'price' column, drops unnecessary columns,\n",
    "# and filters out rows with missing values or unrealistic prices.\n",
    "# It returns a cleaned DataFrame ready for analysis.\n",
    "\n",
    "def clean_airbnb_data(filepath):\n",
    "    df = pd.read_csv(filepath, low_memory=False)\n",
    "    df['price'] = df['price'].replace(r'[\\$,]', '', regex=True).astype(float)\n",
    "    df = df.drop(columns=['license', 'neighbourhood_group_cleansed'], errors='ignore')\n",
    "    df = df.dropna(subset=['price', 'room_type', 'neighbourhood_cleansed'])\n",
    "    df = df[df['price'] < 1000]\n",
    "    return df\n",
    "\n",
    "\n",
    "df = clean_airbnb_data(\"data/listings.csv\")\n",
    "df.to_csv(\"data/cleaned_listings.csv\", index=False)\n"
   ]
  },
  {
   "cell_type": "code",
   "execution_count": null,
   "id": "ea0002dc",
   "metadata": {},
   "outputs": [],
   "source": [
    "#Price Distribution\n",
    "plt.figure(figsize=(10, 5))\n",
    "sns.histplot(df['price'], bins=50, kde=True)\n",
    "plt.title('Airbnb Price Distribution')\n",
    "plt.xlabel('Price ($)')\n",
    "plt.ylabel('Count')\n",
    "plt.show()\n"
   ]
  },
  {
   "cell_type": "code",
   "execution_count": null,
   "id": "d050b7ae",
   "metadata": {},
   "outputs": [],
   "source": [
    "# Average Price by Room Type\n",
    "room_prices = df.groupby('room_type')['price'].mean().sort_values()\n",
    "\n",
    "plt.figure(figsize=(8, 5))\n",
    "room_prices.plot(kind='bar', color='skyblue')\n",
    "plt.title('Average Price by Room Type')\n",
    "plt.ylabel('Average Price ($)')\n",
    "plt.xticks(rotation=45)\n",
    "plt.grid(axis='y')\n",
    "plt.show()\n"
   ]
  },
  {
   "cell_type": "code",
   "execution_count": null,
   "id": "b95aa407",
   "metadata": {},
   "outputs": [],
   "source": [
    "# Top 10 Most Expensive Neighborhoods\n",
    "top_hoods = df.groupby('neighbourhood_cleansed')['price'].mean().sort_values(ascending=False).head(10)\n",
    "\n",
    "plt.figure(figsize=(10, 6))\n",
    "top_hoods.plot(kind='bar', color='orange')\n",
    "plt.title('Top 10 Most Expensive Neighborhoods')\n",
    "plt.ylabel('Average Price ($)')\n",
    "plt.xticks(rotation=45)\n",
    "plt.grid(axis='y')\n",
    "plt.show()\n"
   ]
  },
  {
   "cell_type": "code",
   "execution_count": null,
   "id": "3d90f57a",
   "metadata": {},
   "outputs": [],
   "source": [
    "# Scatter plot of Price vs. Number of Reviews\n",
    "plt.figure(figsize=(8, 5))\n",
    "sns.scatterplot(data=df, x='number_of_reviews', y='price', alpha=0.5)\n",
    "plt.title('Price vs. Number of Reviews')\n",
    "plt.xlabel('Number of Reviews')\n",
    "plt.ylabel('Price ($)')\n",
    "plt.show()\n"
   ]
  },
  {
   "cell_type": "code",
   "execution_count": 23,
   "id": "4cabc707",
   "metadata": {},
   "outputs": [
    {
     "name": "stdout",
     "output_type": "stream",
     "text": [
      "RMSE: $129.00\n"
     ]
    }
   ],
   "source": [
    "# Linear Regression Model to Predict Price\n",
    "\n",
    "from sklearn.model_selection import train_test_split\n",
    "from sklearn.linear_model import LinearRegression\n",
    "from sklearn.metrics import mean_squared_error\n",
    "\n",
    "# Select features\n",
    "features = ['accommodates', 'bedrooms', 'bathrooms', 'number_of_reviews']\n",
    "df_model = df[features + ['price']].dropna()\n",
    "\n",
    "# Split data\n",
    "X = df_model[features]\n",
    "y = df_model['price']\n",
    "X_train, X_test, y_train, y_test = train_test_split(X, y, test_size=0.2, random_state=42)\n",
    "\n",
    "# Train model\n",
    "model = LinearRegression()\n",
    "model.fit(X_train, y_train)\n",
    "\n",
    "# Predict & evaluate\n",
    "y_pred = model.predict(X_test)\n",
    "rmse = mean_squared_error(y_test, y_pred) ** 0.5\n",
    "\n",
    "print(f\"RMSE: ${rmse:.2f}\")\n"
   ]
  }
 ],
 "metadata": {
  "kernelspec": {
   "display_name": "venv",
   "language": "python",
   "name": "python3"
  },
  "language_info": {
   "codemirror_mode": {
    "name": "ipython",
    "version": 3
   },
   "file_extension": ".py",
   "mimetype": "text/x-python",
   "name": "python",
   "nbconvert_exporter": "python",
   "pygments_lexer": "ipython3",
   "version": "3.12.3"
  }
 },
 "nbformat": 4,
 "nbformat_minor": 5
}
