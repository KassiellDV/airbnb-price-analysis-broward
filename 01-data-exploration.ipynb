{
 "cells": [
  {
   "cell_type": "code",
   "execution_count": 1,
   "id": "1b0fd3de",
   "metadata": {},
   "outputs": [
    {
     "name": "stdout",
     "output_type": "stream",
     "text": [
      "Hellow, World!\n"
     ]
    }
   ],
   "source": [
    "print(\"Hellow, World!\")"
   ]
  },
  {
   "cell_type": "code",
   "execution_count": null,
   "id": "9a97adcf",
   "metadata": {},
   "outputs": [],
   "source": [
    "import pandas as pd\n",
    "import matplotlib.pyplot as plt\n",
    "import seaborn as sns\n",
    "\n",
    "# Load the data\n",
    "df = pd.read_csv('data/listings.csv')\n",
    "\n",
    "# Check basic info\n",
    "df.info()\n",
    "\n",
    "# Show first rows\n",
    "df.head()\n"
   ]
  },
  {
   "cell_type": "code",
   "execution_count": 5,
   "id": "fadf7c1b",
   "metadata": {},
   "outputs": [
    {
     "name": "stderr",
     "output_type": "stream",
     "text": [
      "<>:2: SyntaxWarning: invalid escape sequence '\\$'\n",
      "<>:2: SyntaxWarning: invalid escape sequence '\\$'\n",
      "/tmp/ipykernel_55538/4136730282.py:2: SyntaxWarning: invalid escape sequence '\\$'\n",
      "  df['price'] = df['price'].replace('[\\$,]', '', regex=True).astype(float)\n"
     ]
    }
   ],
   "source": [
    "# Remove $ and commas in 'price' and convert to float\n",
    "df['price'] = df['price'].replace('[\\$,]', '', regex=True).astype(float)\n",
    "\n",
    "# Check for nulls\n",
    "df.isnull().sum().sort_values(ascending=False).head(10)\n",
    "\n",
    "# Drop columns with too many missing values\n",
    "df = df.drop(columns=['license', 'neighbourhood_group_cleansed'], errors='ignore')\n",
    "\n",
    "# Fill or drop remaining nulls\n",
    "df = df.dropna(subset=['price', 'room_type', 'neighbourhood_cleansed'])\n",
    "\n",
    "# Optional: filter out crazy prices\n",
    "df = df[df['price'] < 1000]\n"
   ]
  },
  {
   "cell_type": "code",
   "execution_count": 7,
   "id": "ddece833",
   "metadata": {},
   "outputs": [],
   "source": [
    "df.to_csv('data/cleaned_listings.csv', index=False)\n"
   ]
  },
  {
   "cell_type": "code",
   "execution_count": 11,
   "id": "739c9770",
   "metadata": {},
   "outputs": [],
   "source": [
    "import pandas as pd\n",
    "\n",
    "def clean_airbnb_data(filepath):\n",
    "    df = pd.read_csv(filepath, low_memory=False)\n",
    "    df['price'] = df['price'].replace(r'[\\$,]', '', regex=True).astype(float)\n",
    "    df = df.drop(columns=['license', 'neighbourhood_group_cleansed'], errors='ignore')\n",
    "    df = df.dropna(subset=['price', 'room_type', 'neighbourhood_cleansed'])\n",
    "    df = df[df['price'] < 1000]\n",
    "    return df\n",
    "\n",
    "\n",
    "df = clean_airbnb_data(\"data/listings.csv\")\n",
    "df.to_csv(\"data/cleaned_listings.csv\", index=False)\n"
   ]
  }
 ],
 "metadata": {
  "kernelspec": {
   "display_name": "venv",
   "language": "python",
   "name": "python3"
  },
  "language_info": {
   "codemirror_mode": {
    "name": "ipython",
    "version": 3
   },
   "file_extension": ".py",
   "mimetype": "text/x-python",
   "name": "python",
   "nbconvert_exporter": "python",
   "pygments_lexer": "ipython3",
   "version": "3.12.3"
  }
 },
 "nbformat": 4,
 "nbformat_minor": 5
}
